{
  "nbformat": 4,
  "nbformat_minor": 0,
  "metadata": {
    "colab": {
      "provenance": []
    },
    "kernelspec": {
      "name": "python3",
      "display_name": "Python 3"
    },
    "language_info": {
      "name": "python"
    }
  },
  "cells": [
    {
      "cell_type": "code",
      "source": [
        "def FizzBuzz(x):\n",
        "\n",
        "  if (x % 3 == 0) & (x % 5 != 0):  \n",
        "    answer =\"Fizz!\"\n",
        "    return answer\n",
        "  elif (x % 5 == 0) & (x % 3 != 0):\n",
        "    answer =\"Buzz!\"\n",
        "    return answer\n",
        "  elif (x % 5 == 0) & (x % 3 == 0):\n",
        "    answer =\"FizzBuzz!\"\n",
        "    return answer\n",
        "  else:\n",
        "    answer =\"...\"\n",
        "    return answer"
      ],
      "metadata": {
        "id": "oqpeegOoWFd3"
      },
      "execution_count": null,
      "outputs": []
    },
    {
      "cell_type": "code",
      "source": [
        "#Do not change this function's name, parameters or output format. It will be used in automatic grading.\n",
        "def FizzBuzzList(n):\n",
        "  ans = []\n",
        "\n",
        "  if(n < 0):\n",
        "    return ans\n",
        "\n",
        "  x = 1\n",
        "\n",
        "  while x <= n:\n",
        "    if (x % 3 == 0) & (x % 5 != 0):  \n",
        "      answer =\"Fizz!\"\n",
        "      ans.append(answer)\n",
        "    elif (x % 5 == 0) & (x % 3 != 0):\n",
        "      answer =\"Buzz!\"\n",
        "      ans.append(answer)\n",
        "    elif (x % 5 == 0) & (x % 3 == 0):\n",
        "      answer =\"FizzBuzz!\"\n",
        "      ans.append(answer)\n",
        "    else:\n",
        "      answer =\"...\"\n",
        "      ans.append(answer)\n",
        "    x += 1   \n",
        "\n",
        "  return ans"
      ],
      "metadata": {
        "id": "qLtChhOM1R5O"
      },
      "execution_count": null,
      "outputs": []
    },
    {
      "cell_type": "code",
      "source": [
        "#Do not change this function's name, parameters or output format. It will be used in automatic grading.\n",
        "\n",
        "import numpy as np\n",
        "\n",
        "def standarize(X):\n",
        "\n",
        "  X_standarized = (X-X.mean())/X.std()\n",
        "  return X_standarized\n"
      ],
      "metadata": {
        "id": "JGfQcqJz1UkA"
      },
      "execution_count": null,
      "outputs": []
    },
    {
      "cell_type": "code",
      "source": [
        "import numpy as np\n",
        "\n",
        "def main_diagonal_matrix(A):\n",
        "  D = np.diag(np.diag(A)).astype(float)\n",
        "  return D\n"
      ],
      "metadata": {
        "id": "t-xx4bXf1XQ5"
      },
      "execution_count": null,
      "outputs": []
    }
  ]
}