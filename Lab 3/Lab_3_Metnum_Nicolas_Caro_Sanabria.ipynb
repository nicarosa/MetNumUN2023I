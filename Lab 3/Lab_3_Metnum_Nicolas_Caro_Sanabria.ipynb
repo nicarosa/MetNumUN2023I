{
  "nbformat": 4,
  "nbformat_minor": 0,
  "metadata": {
    "colab": {
      "provenance": []
    },
    "kernelspec": {
      "name": "python3",
      "display_name": "Python 3"
    }
  },
  "cells": [
    {
      "cell_type": "code",
      "source": [
        "https://www.linkedin.com/in/nicolas-caro-sanabria/"
      ],
      "metadata": {
        "id": "dkijxVJfh8xQ"
      },
      "execution_count": null,
      "outputs": []
    }
  ]
}